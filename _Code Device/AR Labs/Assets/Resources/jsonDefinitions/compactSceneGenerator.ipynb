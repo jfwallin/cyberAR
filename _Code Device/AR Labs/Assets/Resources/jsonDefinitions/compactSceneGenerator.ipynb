{
 "cells": [
  {
   "cell_type": "markdown",
   "id": "d6829fce",
   "metadata": {},
   "source": [
    "# AR Scenes made simple\n",
    "\n"
   ]
  },
  {
   "cell_type": "code",
   "execution_count": 40,
   "id": "2c16e497",
   "metadata": {},
   "outputs": [],
   "source": [
    "import json\n",
    "\n",
    "import os\n",
    "import time\n",
    "import numpy as np\n",
    "import random\n",
    "import pandas as pd\n",
    "import ipywidgets as widgets\n",
    "from ipywidgets import interact, interactive, fixed, interact_manual\n",
    "from IPython.display import display, Markdown, clear_output\n"
   ]
  },
  {
   "cell_type": "code",
   "execution_count": 41,
   "id": "c8c79819",
   "metadata": {},
   "outputs": [],
   "source": [
    "#pip install import-ipynb\n",
    "#import import_ipynb\n",
    "%run jsonBaseRoutines.ipynb\n"
   ]
  },
  {
   "cell_type": "code",
   "execution_count": null,
   "id": "47ede062-8268-4d8c-8589-1a0bc1039993",
   "metadata": {},
   "outputs": [],
   "source": []
  },
  {
   "cell_type": "code",
   "execution_count": 42,
   "id": "6cf11c7a",
   "metadata": {},
   "outputs": [],
   "source": [
    "scriptData1 = {\n",
    "    \"name\": \"simpleRotation\",\n",
    "    \"timeRate\": 1,\n",
    "    \"rotationTime\": 2\n",
    "}\n",
    "script1 = json.dumps(scriptData1) \n",
    "blist = setupNavigation(\"new section\",\"cool task\")\n",
    "\n",
    "label1 = createFloatingLabel(\"MoonLabel\", \"Moon\", \"The Moon\")\n",
    "label2 = createFloatingLabel(\"MoonSizeLabel\", \"Moon\", \"8000 Miles\", position={\"x\":0.0, \"y\":-0.75, \"z\":0.0})\n",
    "\n",
    "\n",
    "textData = [\"Learned about Sizes and Scales\",\n",
    "            \"Determined how the Moon Rotates\",\n",
    "            \"View from the Earth\",\n",
    "            \"View from the Moon\",\n",
    "            \"View from Above the North Pole\",\n",
    "            \"Reproduce Moon Phases on a Basketball\"\n",
    "           ]\n",
    "\n",
    "tlist = createTextBox(\"line\", \"[_DYNAMIC]\", textData)\n",
    "mlist = createMarkerBalls(\"marker\", \"[_DYNAMIC]\", tlist, componentsToAdd=[script1] )\n",
    "\n"
   ]
  },
  {
   "cell_type": "markdown",
   "id": "e34831b2-2a92-4cae-9455-61ec9b4879e1",
   "metadata": {},
   "source": [
    "# Scripts"
   ]
  },
  {
   "cell_type": "code",
   "execution_count": 44,
   "id": "a6da46f2-3dce-40ce-ae7a-1118b1e38b27",
   "metadata": {},
   "outputs": [
    {
     "data": {
      "text/plain": [
       "'{\"name\": \"moveObjects\", \"startPos\": {\"x\": 0.0, \"y\": 0.0, \"z\": 0.0}, \"midPos\": {\"x\": 0.0, \"y\": 0.0, \"z\": 0.0}, \"finalPos\": {\"x\": 0.0, \"y\": 0.0, \"z\": 0.0}, \"startSize\": {\"x\": 0.0, \"y\": 0.0, \"z\": 0.0}, \"finalSize\": {\"x\": 0.0, \"y\": 0.0, \"z\": 0.0}, \"startAngle\": {\"x\": 0.0, \"y\": 0.0, \"z\": 0.0}, \"finalAngle\": {\"x\": 0.0, \"y\": 0.0, \"z\": 0.0}, \"timeRange\": {\"x\": -100.0, \"y\": -90.0, \"z\": 0.0}, \"positionCoefficients\": [[0.0, 0.0, 0.0], [0.0, 0.0, 0.0], [0.0, 0.0, 0.0]], \"sizeCoefficients\": [[0.0, 0.0, 0.0], [0.0, 0.0, 0.0], [0.0, 0.0, 0.0]], \"angleCoefficients\": [[0.0, 0.0, 0.0], [0.0, 0.0, 0.0], [0.0, 0.0, 0.0]]}'"
      ]
     },
     "execution_count": 44,
     "metadata": {},
     "output_type": "execute_result"
    }
   ],
   "source": [
    "script5"
   ]
  },
  {
   "cell_type": "code",
   "execution_count": null,
   "id": "1400c505-bf3d-4a07-8135-5155d7ac4c55",
   "metadata": {},
   "outputs": [],
   "source": []
  },
  {
   "cell_type": "code",
   "execution_count": null,
   "id": "0cab9dd2-0709-47f0-8e22-2c0f85c6d12f",
   "metadata": {},
   "outputs": [],
   "source": []
  },
  {
   "cell_type": "code",
   "execution_count": null,
   "id": "0ecb7af3-0cae-4e01-873b-3d73b7b28bb4",
   "metadata": {},
   "outputs": [],
   "source": []
  },
  {
   "cell_type": "code",
   "execution_count": null,
   "id": "a8ec9f97-e613-4677-9e19-83bc255b63f4",
   "metadata": {},
   "outputs": [],
   "source": []
  },
  {
   "cell_type": "code",
   "execution_count": null,
   "id": "30b2b6dc-b8d0-4412-bd1c-7bdd2ad5c0bb",
   "metadata": {},
   "outputs": [],
   "source": []
  }
 ],
 "metadata": {
  "kernelspec": {
   "display_name": "Python 3",
   "language": "python",
   "name": "python3"
  },
  "language_info": {
   "codemirror_mode": {
    "name": "ipython",
    "version": 3
   },
   "file_extension": ".py",
   "mimetype": "text/x-python",
   "name": "python",
   "nbconvert_exporter": "python",
   "pygments_lexer": "ipython3",
   "version": "3.8.8"
  }
 },
 "nbformat": 4,
 "nbformat_minor": 5
}
