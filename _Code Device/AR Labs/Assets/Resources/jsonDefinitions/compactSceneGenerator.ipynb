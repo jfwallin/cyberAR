{
 "cells": [
  {
   "cell_type": "markdown",
   "id": "d6829fce",
   "metadata": {},
   "source": [
    "# AR Scenes made simple\n",
    "\n"
   ]
  },
  {
   "cell_type": "code",
   "execution_count": 1,
   "id": "2c16e497",
   "metadata": {},
   "outputs": [],
   "source": [
    "import json\n",
    "import ipywidgets as widgets\n",
    "import os\n",
    "import time\n",
    "import numpy as np\n",
    "import random\n",
    "import pandas as pd"
   ]
  },
  {
   "cell_type": "code",
   "execution_count": 7,
   "id": "c8c79819",
   "metadata": {},
   "outputs": [],
   "source": [
    "#pip install import-ipynb\n",
    "import import_ipynb\n",
    "import jsonBaseRoutines"
   ]
  },
  {
   "cell_type": "code",
   "execution_count": 6,
   "id": "6cf11c7a",
   "metadata": {},
   "outputs": [
    {
     "name": "stdout",
     "output_type": "stream",
     "text": [
      "importing Jupyter notebook from jsonBaseRoutines.ipynb\n"
     ]
    }
   ],
   "source": [
    "\n",
    "\n",
    "def setupNavigation(olist):\n",
    "    moduleButtonOffset = 1.0\n",
    "\n",
    "    name = \"brbNextModule\"\n",
    "    label = \"Next\\n Module\"\n",
    "    labelOffset = 0.13\n",
    "    scale= 1.0\n",
    "\n",
    "    parentObject = \"sectionLabel\"\n",
    "    position = {\"x\": moduleButtonOffset, \"y\": 0, \"z\":0}\n",
    "    o1, o2 =  createButton(name, label, position, labelOffset, scale, parentObject=parentObject)\n",
    "    o1[\"childColor\"] = [0, 255, 255, 255]\n",
    "    o1[\"childName\"] = \"button\"\n",
    "    olist.append(o1)\n",
    "    olist.append(o2)\n",
    "\n",
    "\n",
    "    name = \"brbPreviousModule\"\n",
    "    label = \"Previous \\n Module\"\n",
    "    labelOffset = 0.13\n",
    "    scale= 1.0\n",
    "    parentObject = \"sectionLabel\"\n",
    "    position = {\"x\": -moduleButtonOffset, \"y\": 0, \"z\":0}\n",
    "    o1, o2 =  createButton(name, label, position, labelOffset, scale=scale, parentObject=parentObject)\n",
    "    o1[\"childColor\"] = [0, 255, 255, 255]\n",
    "    o1[\"childName\"] = \"button\"\n",
    "    olist.append(o1)\n",
    "    olist.append(o2)\n",
    "\n",
    "    ##\n",
    "    clipButtonOffset = 0.5\n",
    "    parentObject = \"taskLabel\"\n",
    "    labelOffset = 0.13\n",
    "\n",
    "\n",
    "    name = \"brbNextClip\"\n",
    "    label = \"Next\"\n",
    "    position = {\"x\": clipButtonOffset, \"y\": 0, \"z\":0}\n",
    "    o1, o2 =  createButton(name, label, position, parentObject=parentObject)\n",
    "    o1[\"childColor\"] = [0, 255, 0, 255]\n",
    "    o1[\"childName\"] = \"button\"\n",
    "    olist.append(o1)\n",
    "    olist.append(o2)\n",
    "\n",
    "\n",
    "    name = \"brbPreviousClip\"\n",
    "    label = \"Previous\"\n",
    "    position = {\"x\": -clipButtonOffset, \"y\": 0, \"z\":0}\n",
    "    o1[\"childColor\"] = [0, 255, 0, 255]\n",
    "    o1[\"childName\"] = \"button\"\n",
    "    o1, o2 = createButton(name, label, position, parentObject=parentObject)\n",
    "    olist.append(o1)\n",
    "    olist.append(o2)\n",
    "\n",
    "\n"
   ]
  },
  {
   "cell_type": "code",
   "execution_count": null,
   "id": "7396bbed",
   "metadata": {},
   "outputs": [],
   "source": []
  }
 ],
 "metadata": {
  "kernelspec": {
   "display_name": "Python 3",
   "language": "python",
   "name": "python3"
  },
  "language_info": {
   "codemirror_mode": {
    "name": "ipython",
    "version": 3
   },
   "file_extension": ".py",
   "mimetype": "text/x-python",
   "name": "python",
   "nbconvert_exporter": "python",
   "pygments_lexer": "ipython3",
   "version": "3.8.8"
  }
 },
 "nbformat": 4,
 "nbformat_minor": 5
}
