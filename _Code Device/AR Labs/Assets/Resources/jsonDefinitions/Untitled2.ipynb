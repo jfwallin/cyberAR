{
 "cells": [
  {
   "cell_type": "markdown",
   "id": "d1eec8ed",
   "metadata": {},
   "source": [
    "# Base routines for creating scenes in AR\n",
    "\n",
    "J. Wallin\n"
   ]
  },
  {
   "cell_type": "code",
   "execution_count": null,
   "id": "392a05a1",
   "metadata": {},
   "outputs": [],
   "source": []
  }
 ],
 "metadata": {
  "kernelspec": {
   "display_name": "Python 3",
   "language": "python",
   "name": "python3"
  },
  "language_info": {
   "codemirror_mode": {
    "name": "ipython",
    "version": 3
   },
   "file_extension": ".py",
   "mimetype": "text/x-python",
   "name": "python",
   "nbconvert_exporter": "python",
   "pygments_lexer": "ipython3",
   "version": "3.8.8"
  }
 },
 "nbformat": 4,
 "nbformat_minor": 5
}
