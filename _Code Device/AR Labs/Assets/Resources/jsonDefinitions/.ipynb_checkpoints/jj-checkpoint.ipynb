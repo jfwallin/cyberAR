{
 "cells": [
  {
   "cell_type": "markdown",
   "id": "cba61bc7-d48e-492c-a9b9-2845d870cb3b",
   "metadata": {},
   "source": [
    "# Base module for setting up buttons\n"
   ]
  },
  {
   "cell_type": "code",
   "execution_count": 1,
   "id": "66070c19-581c-4acc-a96e-5b6ecfddf979",
   "metadata": {},
   "outputs": [],
   "source": [
    "\n",
    "import ipywidgets as widgets\n",
    "from ipywidgets import interact, interactive, fixed, interact_manual,Layout\n",
    "from IPython.display import display, Markdown, clear_output"
   ]
  },
  {
   "cell_type": "code",
   "execution_count": 2,
   "id": "055ea009-6a84-47ca-9a69-4835ec0cf77d",
   "metadata": {},
   "outputs": [
    {
     "data": {
      "application/vnd.jupyter.widget-view+json": {
       "model_id": "f3c2b41736e44bd69ef176de4ac93c2d",
       "version_major": 2,
       "version_minor": 0
      },
      "text/plain": [
       "interactive(children=(Text(value='ObjectName', description='name'), FloatSlider(value=0.0, description='x', ma…"
      ]
     },
     "metadata": {},
     "output_type": "display_data"
    },
    {
     "data": {
      "text/plain": [
       "<function __main__.gg(name, x, y, z, rx, ry, rz, button)>"
      ]
     },
     "execution_count": 2,
     "metadata": {},
     "output_type": "execute_result"
    }
   ],
   "source": [
    "def gg(name, x, y, z, rx, ry, rz, button):\n",
    "    return(name, x, y, z, rx, ry, rz, button)\n",
    "\n",
    "interact(gg, name=\"ObjectName\", x=(-10,10,0.05),y=(-10,10,0.05),z=(-10,10,0.05),rx=(-180,180,0.5),ry=(-180,180,0.5),rz=(-180,180,0.5), button=\"Done\" )"
   ]
  },
  {
   "cell_type": "code",
   "execution_count": 3,
   "id": "5c1c8ce2-35ce-43ba-bf41-9a45849856d2",
   "metadata": {},
   "outputs": [
    {
     "data": {
      "application/vnd.jupyter.widget-view+json": {
       "model_id": "e2c8931f794f4c029e30ef6f621afa17",
       "version_major": 2,
       "version_minor": 0
      },
      "text/plain": [
       "interactive(children=(Checkbox(value=True, description='x'), Output()), _dom_classes=('widget-interact',))"
      ]
     },
     "metadata": {},
     "output_type": "display_data"
    },
    {
     "data": {
      "application/vnd.jupyter.widget-view+json": {
       "model_id": "ed1b66fc8e0a48c9add14b4467ed646d",
       "version_major": 2,
       "version_minor": 0
      },
      "text/plain": [
       "interactive(children=(IntSlider(value=10, description='x', max=30, min=-10), Output()), _dom_classes=('widget-…"
      ]
     },
     "metadata": {},
     "output_type": "display_data"
    },
    {
     "data": {
      "application/vnd.jupyter.widget-view+json": {
       "model_id": "00e4dee6ff5d4757bcefde011ddf483f",
       "version_major": 2,
       "version_minor": 0
      },
      "text/plain": [
       "interactive(children=(Text(value='Hi there!', description='x'), Output()), _dom_classes=('widget-interact',))"
      ]
     },
     "metadata": {},
     "output_type": "display_data"
    }
   ],
   "source": [
    "def f(x):\n",
    "    return x\n",
    "interact(f, x=True);\n",
    "interact(f, x=10);\n",
    "interact(f, x='Hi there!');"
   ]
  },
  {
   "cell_type": "code",
   "execution_count": 4,
   "id": "1de95bd0-6699-4dae-b164-0d7fa0d9fd54",
   "metadata": {
    "tags": []
   },
   "outputs": [
    {
     "data": {
      "application/vnd.jupyter.widget-view+json": {
       "model_id": "18da282f49184510a0fc60a72b0d0653",
       "version_major": 2,
       "version_minor": 0
      },
      "text/plain": [
       "interactive(children=(Checkbox(value=True, description='x'), FloatSlider(value=1.0, description='y', max=3.0, …"
      ]
     },
     "metadata": {},
     "output_type": "display_data"
    }
   ],
   "source": [
    "@interact(x=True, y=1.0)\n",
    "def g(x, y):\n",
    "    return (x, y)"
   ]
  },
  {
   "cell_type": "code",
   "execution_count": 5,
   "id": "c9ad34d5-6f8f-488f-a1cf-4927b36d3f6d",
   "metadata": {
    "tags": []
   },
   "outputs": [
    {
     "data": {
      "application/vnd.jupyter.widget-view+json": {
       "model_id": "5b6e89a1eebc4d4bbd76f37c111d36f9",
       "version_major": 2,
       "version_minor": 0
      },
      "text/plain": [
       "VBox(children=(Button(description='Click me', icon='check', style=ButtonStyle(), tooltip='Click me'), Output()…"
      ]
     },
     "metadata": {},
     "output_type": "display_data"
    }
   ],
   "source": [
    "\n",
    "aaa =0\n",
    "\n",
    "out = widgets.Output()\n",
    "def on_button_clicked(_):\n",
    "      # \"linking function with output\"\n",
    "      with out:\n",
    "          # what happens when we press the button\n",
    "          clear_output()\n",
    "          print('Something happens!')\n",
    "            \n",
    "            \n",
    "def duck(_):\n",
    "    with out:\n",
    "        # what happens when we press the button\n",
    "        clear_output()\n",
    "        print('Something happens!')\n",
    "    print(\"quack\")\n",
    "    \n",
    "button = widgets.Button(\n",
    "    description='Click me',\n",
    "    disabled=False,\n",
    "    button_style='', # 'success', 'info', 'warning', 'danger' or ''\n",
    "    tooltip='Click me',\n",
    "    icon='check' # (FontAwesome names without the `fa-` prefix)\n",
    ")\n",
    "\n",
    "button.on_click(on_button_clicked)\n",
    "widgets.VBox([button,out])"
   ]
  },
  {
   "cell_type": "code",
   "execution_count": 107,
   "id": "cf37e4b4-f953-499d-b9b3-092f52e9ad7c",
   "metadata": {
    "tags": []
   },
   "outputs": [
    {
     "data": {
      "application/vnd.jupyter.widget-view+json": {
       "model_id": "bf9399043ea34de4a5f9a1a536e534dd",
       "version_major": 2,
       "version_minor": 0
      },
      "text/plain": [
       "Dropdown(description='Script:', options=('none', 'simpleRotation', 'simpleOrbit', 'checkAngle'), value='none')"
      ]
     },
     "metadata": {},
     "output_type": "display_data"
    },
    {
     "data": {
      "application/vnd.jupyter.widget-view+json": {
       "model_id": "fdd8f4232cb744009485c6ff68ff5948",
       "version_major": 2,
       "version_minor": 0
      },
      "text/plain": [
       "VBox(children=(Text(value='', description='parameteri:', disabled=True, layout=Layout(height='40px', width='50…"
      ]
     },
     "metadata": {},
     "output_type": "display_data"
    },
    {
     "data": {
      "application/vnd.jupyter.widget-view+json": {
       "model_id": "9f1814adb6ec4bc89cd1be1b90ed8545",
       "version_major": 2,
       "version_minor": 0
      },
      "text/plain": [
       "Output()"
      ]
     },
     "metadata": {},
     "output_type": "display_data"
    }
   ],
   "source": [
    "jj = 0\n",
    "wlist = []\n",
    "def scriptCreator():\n",
    "\n",
    "    scriptNames = ['none','simpleRotation', 'simpleOrbit', 'checkAngle']\n",
    "\n",
    "    drop = widgets.Dropdown(\n",
    "        options=scriptNames,\n",
    "        value='none',\n",
    "        description='Script:',\n",
    "        disabled=False,\n",
    "        )\n",
    "    display(drop)\n",
    "    \n",
    "    for i in range(10):\n",
    "        wlist.append( \n",
    "                    widgets.Text(value=\"\",\n",
    "                             placeholder='Type something',\n",
    "                                description= \"parameter\" + \"i\" + \":\",\n",
    "                                disabled=True,\n",
    "                                layout=Layout(width='50%', height='40px')\n",
    "                                ))\n",
    "\n",
    "    hh = widgets.VBox(wlist)\n",
    "\n",
    "    display(hh)\n",
    "    out1 = widgets.interactive_output(f1, {'a': drop})  \n",
    "    display(out1)\n",
    "    \n",
    "\n",
    "\n",
    "def f1(a):\n",
    "    scriptNames = ['none','simpleRotation', 'simpleOrbit', 'checkAngle']\n",
    "    \n",
    "    sdata = []\n",
    "    \n",
    "    scriptData0 = {\n",
    "        \"name\":\"none\"\n",
    "    }\n",
    "    sdata.append(scriptData0)\n",
    "    \n",
    "    scriptData1 = {\n",
    "        \"name\": \"simpleRotation\",\n",
    "        \"timeRate\": 1.0,\n",
    "        \"rotationTime\": 0.2\n",
    "        }\n",
    "    sdata.append(scriptData1)\n",
    "    \n",
    "    scriptData2 = {\n",
    "        \"name\": \"checkAngle\",\n",
    "        \"audioClipSuccess\": None,\n",
    "        \"azmTarget\": 0,\n",
    "        \"azmTolerance\": 30,\n",
    "        \"altTarget\": 0,\n",
    "        \"altTolerance\": 30,\n",
    "        \"callBackObjects\": [\"demoModule\"]\n",
    "\n",
    "    }\n",
    "    \n",
    "    sdata.append(scriptData2)\n",
    "\n",
    "    scriptData3 = {\n",
    "        \"name\": \"simpleOrbit\",\n",
    "        \"moonPosition\": \"{'x':1,'y':0,'z':0}\",\n",
    "        \"orbitalPeriod\": 56,\n",
    "        \"timeRate\": 1,\n",
    "        \"orbitalScale\": 1,\n",
    "        \"synchronousRotation\":True\n",
    "        }\n",
    "    sdata.append(scriptData3)\n",
    "    \n",
    "    \n",
    "    display(a)\n",
    "    \n",
    "    ii =scriptNames.index(a)\n",
    "    jj = ii\n",
    "    \n",
    "    \n",
    "    for i in range(10):\n",
    "        wlist[i].value = \"\"\n",
    "        wlist[i].description = \"\"\n",
    "        wlist[i].disabled = True\n",
    "        \n",
    "    k = list(sdata[jj].keys())\n",
    "    v = list(sdata[jj].values())\n",
    "    print(k)\n",
    "    print(v)\n",
    "    for i in range(len(k)):\n",
    "        kk = k[i]\n",
    "        vv = v[i]        \n",
    "        wlist[i].value = str(vv)\n",
    "        wlist[i].description = str(kk)\n",
    "        wlist[i].disabled = False\n",
    "    display(a)\n",
    "#    hh = widgets.VBox(wlist)\n",
    "    \n",
    "#    wlist[jj].disabled = False\n",
    "#    wlist[jj].value = \n",
    "    \n",
    "\n",
    "    \n",
    "       \n",
    "\n",
    "scriptCreator()\n",
    "\n",
    "    \n",
    "    \n"
   ]
  },
  {
   "cell_type": "code",
   "execution_count": null,
   "id": "9bf7623a-18c4-474f-937c-b2cf2b5c50c4",
   "metadata": {},
   "outputs": [],
   "source": []
  },
  {
   "cell_type": "code",
   "execution_count": null,
   "id": "a801ee1d-4d04-4747-b581-e5c0ed72cb04",
   "metadata": {},
   "outputs": [],
   "source": []
  },
  {
   "cell_type": "code",
   "execution_count": 101,
   "id": "5d68cfce-ad4c-426e-bbaa-6e7bf273d6f8",
   "metadata": {},
   "outputs": [],
   "source": [
    "%run jsonBaseRoutines.ipynb"
   ]
  },
  {
   "cell_type": "code",
   "execution_count": 102,
   "id": "9691d193-ee88-4e80-9b81-56887ce830c6",
   "metadata": {},
   "outputs": [
    {
     "data": {
      "text/plain": [
       "{'name': 'none'}"
      ]
     },
     "execution_count": 102,
     "metadata": {},
     "output_type": "execute_result"
    }
   ],
   "source": [
    "scriptList[0]"
   ]
  },
  {
   "cell_type": "code",
   "execution_count": 103,
   "id": "fd0a3f8d-eced-449f-bcd1-2e32ec17eff3",
   "metadata": {},
   "outputs": [
    {
     "name": "stdout",
     "output_type": "stream",
     "text": [
      "12\n",
      "['none', 'simpleRotation', 'checkAngle', 'simpleOrbit', 'demoButtonActions', 'moveObjects']\n"
     ]
    }
   ],
   "source": [
    "scriptNames = []\n",
    "maxLength = 0\n",
    "#scriptNames = [\"none\"]\n",
    "for ss in scriptList:\n",
    "    scriptNames.append(ss['name'])\n",
    "    lk = len(list(ss.keys()))\n",
    "    maxLength = max(maxLength, lk)\n",
    "\n",
    "print(lk)\n",
    "print(scriptNames)\n"
   ]
  },
  {
   "cell_type": "code",
   "execution_count": 125,
   "id": "8638f12f-f9fe-4307-b81a-eedd6ea581c2",
   "metadata": {
    "tags": []
   },
   "outputs": [
    {
     "data": {
      "application/vnd.jupyter.widget-view+json": {
       "model_id": "95ca91f3f2b34125aac7b6d2ee120936",
       "version_major": 2,
       "version_minor": 0
      },
      "text/plain": [
       "Dropdown(description='Script:', options=('none', 'simpleRotation', 'checkAngle', 'simpleOrbit', 'demoButtonAct…"
      ]
     },
     "metadata": {},
     "output_type": "display_data"
    },
    {
     "data": {
      "application/vnd.jupyter.widget-view+json": {
       "model_id": "19ea4ce4c5b547e89df98de4fd3311ff",
       "version_major": 2,
       "version_minor": 0
      },
      "text/plain": [
       "Output()"
      ]
     },
     "metadata": {},
     "output_type": "display_data"
    }
   ],
   "source": [
    "\n",
    "\n",
    "def procBool(kk, vv, t):\n",
    "\n",
    "    print(\"Xx\")\n",
    "    w = widgets.Checkbox(\n",
    "        value= vv,\n",
    "        description= kk,\n",
    "        disabled=False,\n",
    "        indent=False\n",
    "    )\n",
    "    return w\n",
    "\n",
    "def procInt(kk, vv, t):\n",
    "    w = widgets.IntText(\n",
    "            value=vv,\n",
    "            description=kk,\n",
    "            disabled=False\n",
    "        )\n",
    "    return w\n",
    "\n",
    "def procFloat(kk, vv, t):\n",
    "    w = widgets.FloatText(\n",
    "            value=vv,\n",
    "            description=kk,\n",
    "            disabled=False\n",
    "        )\n",
    "    return w\n",
    "\n",
    "def procString(kk, vv, t):\n",
    "    w = widgets.Text(\n",
    "            value=vv,\n",
    "            description=kk,\n",
    "            disabled=False\n",
    "        )\n",
    "    return w\n",
    "\n",
    "def procList(kk, vv, t):\n",
    "    w = widgets.Text(\n",
    "            value=str(vv),\n",
    "            description=kk,\n",
    "            disabled=False\n",
    "        )\n",
    "    return w\n",
    "\n",
    "def procDict(kk, vv, t):\n",
    "\n",
    "    k2 = list(vv.keys())\n",
    "    w = widgets.Label(value=kk)\n",
    "    hlist = [w]\n",
    "    \n",
    "    for k1 in k2:\n",
    "        w  = widgets.FloatText(\n",
    "            value=vv[k1],\n",
    "            description=k1, #vv[k1],\n",
    "            disabled=False,\n",
    "             layout=Layout(width='15%')\n",
    "        )\n",
    "        hlist.append(w)\n",
    "    \n",
    "    w = widgets.HBox(hlist, layout=Layout(width='90%'))\n",
    "    return w\n",
    "\n",
    "\n",
    "def createFields(k, v):\n",
    "    jlist = []\n",
    "    for i in range(len(k)):\n",
    "        #print(k[i], v[i])\n",
    "        t = type(v[i])\n",
    "        #print(t, str(t))\n",
    "        #print( type(v[i]))\n",
    "\n",
    "        if (t is bool):\n",
    "            w = procBool(k[i], v[i], t)\n",
    "            jlist.append(w)\n",
    "\n",
    "        if (t is int):\n",
    "            w = procInt(k[i], v[i], t)\n",
    "            jlist.append(w)\n",
    "\n",
    "        if (t is float):\n",
    "            w = procFloat(k[i], v[i], t)\n",
    "            jlist.append(w)\n",
    "\n",
    "        if (t is str):\n",
    "            w = procString(k[i], v[i], t)\n",
    "            jlist.append(w)\n",
    "\n",
    "        if (t is list):\n",
    "            w = procList(k[i], v[i], t)\n",
    "            jlist.append(w)        \n",
    "\n",
    "        if (t is dict):\n",
    "            w = procDict(k[i], v[i], t)\n",
    "            jlist.append(w)     \n",
    "            \n",
    "    button = widgets.Button(\n",
    "        description='Save and add',\n",
    "        disabled=False,\n",
    "        button_style='', # 'success', 'info', 'warning', 'danger' or ''\n",
    "        tooltip='Click me',\n",
    "        icon='check' # (FontAwesome names without the `fa-` prefix)\n",
    "    )\n",
    "\n",
    "    button.on_click(on_button_clicked)\n",
    "    jlist.append(button)\n",
    "    hh = widgets.VBox(jlist)\n",
    "    return hh\n",
    "\n",
    "\n",
    "\n",
    "    \n",
    "\n",
    "\n",
    "#scriptNames = ['none','simpleRotation', 'simpleOrbit', 'checkAngle']\n",
    "def fff1(name):\n",
    "    #print(name)\n",
    "    ii = scriptNames.index(name)\n",
    "    #print(ii)\n",
    "    s = scriptList[ii]\n",
    "    k = list(s.keys())\n",
    "    v = list(s.values())\n",
    "    hh= createFields(k,v)\n",
    "    display(hh)\n",
    "    \n",
    "drop = widgets.Dropdown(\n",
    "        options=scriptNames,\n",
    "        value='none',\n",
    "        description='Script:',\n",
    "        disabled=False,\n",
    "        )\n",
    "display(drop)\n",
    "\n",
    "def on_button_clicked():\n",
    "    print(\"click!\")\n",
    "\n",
    "\n",
    "\n",
    "\n",
    "out1 = widgets.interactive_output(fff1, {'name': drop})  \n",
    "#ww = widgets.HBox([out1, button])\n",
    "\n",
    "display(out1) \n",
    "\n"
   ]
  },
  {
   "cell_type": "code",
   "execution_count": 89,
   "id": "8fac54e8-0b29-4532-bbb1-ceebf76fe76b",
   "metadata": {},
   "outputs": [
    {
     "data": {
      "text/plain": [
       "['None',\n",
       " 'simpleRotation',\n",
       " 'checkAngle',\n",
       " 'simpleOrbit',\n",
       " 'demoButtonActions',\n",
       " 'moveObjects']"
      ]
     },
     "execution_count": 89,
     "metadata": {},
     "output_type": "execute_result"
    }
   ],
   "source": [
    "scriptNames"
   ]
  },
  {
   "cell_type": "code",
   "execution_count": 126,
   "id": "f779a790-ff60-426a-ae55-4ef23973756c",
   "metadata": {},
   "outputs": [
    {
     "data": {
      "application/vnd.jupyter.widget-view+json": {
       "model_id": "e70805dd819a4e0a90e4d6a976d3a213",
       "version_major": 2,
       "version_minor": 0
      },
      "text/plain": [
       "HBox(children=(Label(value='position'), BoundedFloatText(value=7.5, description='x:', layout=Layout(height='40…"
      ]
     },
     "metadata": {},
     "output_type": "display_data"
    }
   ],
   "source": []
  },
  {
   "cell_type": "code",
   "execution_count": null,
   "id": "374cca39-b9bc-4398-bb7f-d8f8188cb20e",
   "metadata": {},
   "outputs": [],
   "source": []
  }
 ],
 "metadata": {
  "kernelspec": {
   "display_name": "Python 3",
   "language": "python",
   "name": "python3"
  },
  "language_info": {
   "codemirror_mode": {
    "name": "ipython",
    "version": 3
   },
   "file_extension": ".py",
   "mimetype": "text/x-python",
   "name": "python",
   "nbconvert_exporter": "python",
   "pygments_lexer": "ipython3",
   "version": "3.8.8"
  }
 },
 "nbformat": 4,
 "nbformat_minor": 5
}
