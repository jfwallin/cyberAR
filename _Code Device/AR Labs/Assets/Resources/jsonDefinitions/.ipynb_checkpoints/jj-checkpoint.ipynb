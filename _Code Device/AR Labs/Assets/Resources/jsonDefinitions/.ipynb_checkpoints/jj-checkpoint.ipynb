{
 "cells": [
  {
   "cell_type": "markdown",
   "id": "cba61bc7-d48e-492c-a9b9-2845d870cb3b",
   "metadata": {},
   "source": [
    "# Base module for setting up buttons\n"
   ]
  },
  {
   "cell_type": "code",
   "execution_count": 34,
   "id": "66070c19-581c-4acc-a96e-5b6ecfddf979",
   "metadata": {},
   "outputs": [],
   "source": [
    "\n",
    "import ipywidgets as widgets\n",
    "from ipywidgets import interact, interactive, fixed, interact_manual,Layout\n",
    "from IPython.display import display, Markdown, clear_output"
   ]
  },
  {
   "cell_type": "code",
   "execution_count": 35,
   "id": "055ea009-6a84-47ca-9a69-4835ec0cf77d",
   "metadata": {},
   "outputs": [
    {
     "data": {
      "application/vnd.jupyter.widget-view+json": {
       "model_id": "1d9577904e8b438db8e393e60ffba3b1",
       "version_major": 2,
       "version_minor": 0
      },
      "text/plain": [
       "interactive(children=(Text(value='ObjectName', description='name'), FloatSlider(value=0.0, description='x', ma…"
      ]
     },
     "metadata": {},
     "output_type": "display_data"
    },
    {
     "data": {
      "text/plain": [
       "<function __main__.gg(name, x, y, z, rx, ry, rz, button)>"
      ]
     },
     "execution_count": 35,
     "metadata": {},
     "output_type": "execute_result"
    }
   ],
   "source": [
    "def gg(name, x, y, z, rx, ry, rz, button):\n",
    "    return(name, x, y, z, rx, ry, rz, button)\n",
    "\n",
    "interact(gg, name=\"ObjectName\", x=(-10,10,0.05),y=(-10,10,0.05),z=(-10,10,0.05),rx=(-180,180,0.5),ry=(-180,180,0.5),rz=(-180,180,0.5), button=\"Done\" )"
   ]
  },
  {
   "cell_type": "code",
   "execution_count": 36,
   "id": "5c1c8ce2-35ce-43ba-bf41-9a45849856d2",
   "metadata": {},
   "outputs": [
    {
     "data": {
      "application/vnd.jupyter.widget-view+json": {
       "model_id": "1d8b70b779d64730bcca6fb59a3bd5bc",
       "version_major": 2,
       "version_minor": 0
      },
      "text/plain": [
       "interactive(children=(Checkbox(value=True, description='x'), Output()), _dom_classes=('widget-interact',))"
      ]
     },
     "metadata": {},
     "output_type": "display_data"
    },
    {
     "data": {
      "application/vnd.jupyter.widget-view+json": {
       "model_id": "b29b2850e685454a84668bc045126138",
       "version_major": 2,
       "version_minor": 0
      },
      "text/plain": [
       "interactive(children=(IntSlider(value=10, description='x', max=30, min=-10), Output()), _dom_classes=('widget-…"
      ]
     },
     "metadata": {},
     "output_type": "display_data"
    },
    {
     "data": {
      "application/vnd.jupyter.widget-view+json": {
       "model_id": "b0026e0474d84c5babf76a1fe2446d04",
       "version_major": 2,
       "version_minor": 0
      },
      "text/plain": [
       "interactive(children=(Text(value='Hi there!', description='x'), Output()), _dom_classes=('widget-interact',))"
      ]
     },
     "metadata": {},
     "output_type": "display_data"
    }
   ],
   "source": [
    "def f(x):\n",
    "    return x\n",
    "interact(f, x=True);\n",
    "interact(f, x=10);\n",
    "interact(f, x='Hi there!');"
   ]
  },
  {
   "cell_type": "code",
   "execution_count": 37,
   "id": "1de95bd0-6699-4dae-b164-0d7fa0d9fd54",
   "metadata": {},
   "outputs": [
    {
     "data": {
      "application/vnd.jupyter.widget-view+json": {
       "model_id": "07bea33c6c654241b77c63fd372bae5e",
       "version_major": 2,
       "version_minor": 0
      },
      "text/plain": [
       "interactive(children=(Checkbox(value=True, description='x'), FloatSlider(value=1.0, description='y', max=3.0, …"
      ]
     },
     "metadata": {},
     "output_type": "display_data"
    }
   ],
   "source": [
    "@interact(x=True, y=1.0)\n",
    "def g(x, y):\n",
    "    return (x, y)"
   ]
  },
  {
   "cell_type": "code",
   "execution_count": 38,
   "id": "c9ad34d5-6f8f-488f-a1cf-4927b36d3f6d",
   "metadata": {},
   "outputs": [
    {
     "data": {
      "application/vnd.jupyter.widget-view+json": {
       "model_id": "561f914417bf469691f8e290c97b98dc",
       "version_major": 2,
       "version_minor": 0
      },
      "text/plain": [
       "VBox(children=(Button(description='Click me', icon='check', style=ButtonStyle(), tooltip='Click me'), Output()…"
      ]
     },
     "metadata": {},
     "output_type": "display_data"
    }
   ],
   "source": [
    "\n",
    "aaa =0\n",
    "\n",
    "out = widgets.Output()\n",
    "def on_button_clicked(_):\n",
    "      # \"linking function with output\"\n",
    "      with out:\n",
    "          # what happens when we press the button\n",
    "          clear_output()\n",
    "          print('Something happens!')\n",
    "            \n",
    "            \n",
    "def duck(_):\n",
    "    with out:\n",
    "        # what happens when we press the button\n",
    "        clear_output()\n",
    "        print('Something happens!')\n",
    "    print(\"quack\")\n",
    "    \n",
    "button = widgets.Button(\n",
    "    description='Click me',\n",
    "    disabled=False,\n",
    "    button_style='', # 'success', 'info', 'warning', 'danger' or ''\n",
    "    tooltip='Click me',\n",
    "    icon='check' # (FontAwesome names without the `fa-` prefix)\n",
    ")\n",
    "\n",
    "button.on_click(on_button_clicked)\n",
    "widgets.VBox([button,out])"
   ]
  },
  {
   "cell_type": "code",
   "execution_count": 39,
   "id": "cf37e4b4-f953-499d-b9b3-092f52e9ad7c",
   "metadata": {},
   "outputs": [
    {
     "data": {
      "application/vnd.jupyter.widget-view+json": {
       "model_id": "fb7bd58a199d46738d39304a2db5edd4",
       "version_major": 2,
       "version_minor": 0
      },
      "text/plain": [
       "Dropdown(description='Script:', options=('none', 'simpleRotation', 'simpleOrbit', 'checkAngle'), value='none')"
      ]
     },
     "metadata": {},
     "output_type": "display_data"
    },
    {
     "data": {
      "application/vnd.jupyter.widget-view+json": {
       "model_id": "941de7e4cbc746ff9fe7740c3f11417f",
       "version_major": 2,
       "version_minor": 0
      },
      "text/plain": [
       "VBox(children=(Text(value='', description='parameteri:', disabled=True, layout=Layout(height='40px', width='50…"
      ]
     },
     "metadata": {},
     "output_type": "display_data"
    },
    {
     "data": {
      "application/vnd.jupyter.widget-view+json": {
       "model_id": "82b99883f7664a668c5cc003cd63af5f",
       "version_major": 2,
       "version_minor": 0
      },
      "text/plain": [
       "Output()"
      ]
     },
     "metadata": {},
     "output_type": "display_data"
    }
   ],
   "source": [
    "jj = 0\n",
    "wlist = []\n",
    "def scriptCreator():\n",
    "\n",
    "    scriptNames = ['none','simpleRotation', 'simpleOrbit', 'checkAngle']\n",
    "\n",
    "    drop = widgets.Dropdown(\n",
    "        options=scriptNames,\n",
    "        value='none',\n",
    "        description='Script:',\n",
    "        disabled=False,\n",
    "        )\n",
    "    display(drop)\n",
    "    \n",
    "    for i in range(10):\n",
    "        wlist.append( \n",
    "                    widgets.Text(value=\"\",\n",
    "                             placeholder='Type something',\n",
    "                                description= \"parameter\" + \"i\" + \":\",\n",
    "                                disabled=True,\n",
    "                                layout=Layout(width='50%', height='40px')\n",
    "                                ))\n",
    "\n",
    "    hh = widgets.VBox(wlist)\n",
    "\n",
    "    display(hh)\n",
    "    out1 = widgets.interactive_output(f1, {'a': drop})  \n",
    "    display(out1)\n",
    "    \n",
    "\n",
    "\n",
    "def f1(a):\n",
    "    scriptNames = ['none','simpleRotation', 'simpleOrbit', 'checkAngle']\n",
    "    \n",
    "    sdata = []\n",
    "    \n",
    "    scriptData0 = {\n",
    "        \"name\":\"none\"\n",
    "    }\n",
    "    sdata.append(scriptData0)\n",
    "    \n",
    "    scriptData1 = {\n",
    "        \"name\": \"simpleRotation\",\n",
    "        \"timeRate\": 1.0,\n",
    "        \"rotationTime\": 0.2\n",
    "        }\n",
    "    sdata.append(scriptData1)\n",
    "    \n",
    "    scriptData2 = {\n",
    "        \"name\": \"checkAngle\",\n",
    "        \"audioClipSuccess\": None,\n",
    "        \"azmTarget\": 0,\n",
    "        \"azmTolerance\": 30,\n",
    "        \"altTarget\": 0,\n",
    "        \"altTolerance\": 30,\n",
    "        \"callBackObjects\": [\"demoModule\"]\n",
    "\n",
    "    }\n",
    "    \n",
    "    sdata.append(scriptData2)\n",
    "\n",
    "    scriptData3 = {\n",
    "        \"name\": \"simpleOrbit\",\n",
    "        \"moonPosition\": \"{'x':1,'y':0,'z':0}\",\n",
    "        \"orbitalPeriod\": 56,\n",
    "        \"timeRate\": 1,\n",
    "        \"orbitalScale\": 1,\n",
    "        \"synchronousRotation\":True\n",
    "        }\n",
    "    sdata.append(scriptData3)\n",
    "    \n",
    "    \n",
    "    display(a)\n",
    "    \n",
    "    ii =scriptNames.index(a)\n",
    "    jj = ii\n",
    "    \n",
    "    \n",
    "    for i in range(10):\n",
    "        wlist[i].value = \"\"\n",
    "        wlist[i].description = \"\"\n",
    "        wlist[i].disabled = True\n",
    "        \n",
    "    k = list(sdata[jj].keys())\n",
    "    v = list(sdata[jj].values())\n",
    "    print(k)\n",
    "    print(v)\n",
    "    for i in range(len(k)):\n",
    "        kk = k[i]\n",
    "        vv = v[i]        \n",
    "        wlist[i].value = str(vv)\n",
    "        wlist[i].description = str(kk)\n",
    "        wlist[i].disabled = False\n",
    "    display(a)\n",
    "#    hh = widgets.VBox(wlist)\n",
    "    \n",
    "#    wlist[jj].disabled = False\n",
    "#    wlist[jj].value = \n",
    "    \n",
    "\n",
    "    \n",
    "       \n",
    "\n",
    "scriptCreator()\n",
    "\n",
    "    \n",
    "    \n"
   ]
  },
  {
   "cell_type": "code",
   "execution_count": 40,
   "id": "9bf7623a-18c4-474f-937c-b2cf2b5c50c4",
   "metadata": {},
   "outputs": [],
   "source": [
    "    \n",
    "    \n",
    "SS = \"\"\"\n",
    "    scriptData1 = {\n",
    "        \"name\": \"simpleRotation\",\n",
    "        \"timeRate\": timeRate,\n",
    "        \"rotationTime\": basketballRotationTime\n",
    "        }\n",
    "    scriptData2 = {\n",
    "        \"name\": \"checkAngle\",\n",
    "        \"audioClipSuccess\": None,\n",
    "        \"azmTarget\": 0,\n",
    "        \"azmTolerance\": 30,\n",
    "        \"altTarget\": 0,\n",
    "        \"altTolerance\": 30,\n",
    "        \"callBackObjects\": [\"demoModule\"]\n",
    "\n",
    "    }\n",
    "    scriptData3 = {\n",
    "        \"name\": \"simpleOrbit\",\n",
    "        \"moonPosition\": moonPosition,\n",
    "        \"orbitalPeriod\": moonOrbitalPeriod,\n",
    "        \"timeRate\": timeRate,\n",
    "        \"orbitalScale\": orbitalScale,\n",
    "        \"synchronousRotation\":True\n",
    "        }\n",
    "        \"\"\"\n"
   ]
  },
  {
   "cell_type": "code",
   "execution_count": 41,
   "id": "a801ee1d-4d04-4747-b581-e5c0ed72cb04",
   "metadata": {},
   "outputs": [
    {
     "data": {
      "application/vnd.jupyter.widget-view+json": {
       "model_id": "eb45cf277dcc4575bc807529590ee22f",
       "version_major": 2,
       "version_minor": 0
      },
      "text/plain": [
       "HBox(children=(Button(description='Click me', icon='check', style=ButtonStyle(), tooltip='Click me'), Output()…"
      ]
     },
     "metadata": {},
     "output_type": "display_data"
    }
   ],
   "source": [
    "button = widgets.Button(\n",
    "    description='Click me',\n",
    "    disabled=False,\n",
    "    button_style='', # 'success', 'info', 'warning', 'danger' or ''\n",
    "    tooltip='Click me',\n",
    "    icon='check' # (FontAwesome names without the `fa-` prefix)\n",
    ")\n",
    "\n",
    "button.on_click(on_button_clicked)\n",
    "widgets.HBox([button,out],layout=Layout(width='50%', height='80px'))"
   ]
  },
  {
   "cell_type": "code",
   "execution_count": 91,
   "id": "5d68cfce-ad4c-426e-bbaa-6e7bf273d6f8",
   "metadata": {},
   "outputs": [],
   "source": [
    "%run jsonBaseRoutines.ipynb"
   ]
  },
  {
   "cell_type": "code",
   "execution_count": 92,
   "id": "9691d193-ee88-4e80-9b81-56887ce830c6",
   "metadata": {},
   "outputs": [
    {
     "data": {
      "text/plain": [
       "{'name': 'none'}"
      ]
     },
     "execution_count": 92,
     "metadata": {},
     "output_type": "execute_result"
    }
   ],
   "source": [
    "scriptList[0]"
   ]
  },
  {
   "cell_type": "code",
   "execution_count": 93,
   "id": "fd0a3f8d-eced-449f-bcd1-2e32ec17eff3",
   "metadata": {},
   "outputs": [
    {
     "name": "stdout",
     "output_type": "stream",
     "text": [
      "12\n",
      "['simpleRotation', 'checkAngle', 'simpleOrbit', 'demoButtonActions', 'moveObjects']\n"
     ]
    }
   ],
   "source": [
    "scriptNames = []\n",
    "maxLength = 0\n",
    "#scriptNames = [\"none\"]\n",
    "for ss in scriptList:\n",
    "    scriptNames.append(ss['name'])\n",
    "    lk = len(list(ss.keys()))\n",
    "    maxLength = max(maxLength, lk)\n",
    "\n",
    "print(lk)\n",
    "print(names)\n"
   ]
  },
  {
   "cell_type": "code",
   "execution_count": 113,
   "id": "8638f12f-f9fe-4307-b81a-eedd6ea581c2",
   "metadata": {},
   "outputs": [
    {
     "name": "stdout",
     "output_type": "stream",
     "text": [
      "name checkAngle\n",
      "<class 'str'> <class 'str'>\n",
      "<class 'str'>\n",
      "False\n",
      "False\n",
      "False\n",
      "False\n",
      "True\n",
      "False\n",
      "xx    False\n",
      "\n",
      "audioClipSuccess None\n",
      "<class 'NoneType'> <class 'NoneType'>\n",
      "<class 'NoneType'>\n",
      "False\n",
      "False\n",
      "False\n",
      "False\n",
      "False\n",
      "False\n",
      "xx    True\n",
      "\n",
      "azmTarget 0\n",
      "<class 'int'> <class 'int'>\n",
      "<class 'int'>\n",
      "False\n",
      "False\n",
      "False\n",
      "True\n",
      "False\n",
      "False\n",
      "xx    False\n",
      "\n",
      "azmTolerance 30\n",
      "<class 'int'> <class 'int'>\n",
      "<class 'int'>\n",
      "False\n",
      "False\n",
      "False\n",
      "True\n",
      "False\n",
      "False\n",
      "xx    False\n",
      "\n",
      "altTarget 0\n",
      "<class 'int'> <class 'int'>\n",
      "<class 'int'>\n",
      "False\n",
      "False\n",
      "False\n",
      "True\n",
      "False\n",
      "False\n",
      "xx    False\n",
      "\n",
      "altTolerance 30\n",
      "<class 'int'> <class 'int'>\n",
      "<class 'int'>\n",
      "False\n",
      "False\n",
      "False\n",
      "True\n",
      "False\n",
      "False\n",
      "xx    False\n",
      "\n",
      "callBackObjects ['demoModule']\n",
      "<class 'list'> <class 'list'>\n",
      "<class 'list'>\n",
      "False\n",
      "False\n",
      "True\n",
      "False\n",
      "False\n",
      "False\n",
      "xx    False\n",
      "\n"
     ]
    }
   ],
   "source": [
    "s = scriptList[2]\n",
    "k = list(s.keys())\n",
    "v = list(s.values())\n",
    "for i in range(len(k)):\n",
    "    print(k[i], v[i])\n",
    "    t = type(v[i])\n",
    "    print(t, str(t))\n",
    "    print( type(v[i]))\n",
    "    \n",
    "    print(t is bool)\n",
    "    print(t is dict)\n",
    "    print(t is list)\n",
    "    print(t is int)\n",
    "    print(t is str)\n",
    "    print(t is float)\n",
    "    print(\"xx   \" ,t is type(None))\n",
    "    print(\"\")"
   ]
  },
  {
   "cell_type": "code",
   "execution_count": 114,
   "id": "7062fe29-36af-4a42-baf2-bfc9ca0d88aa",
   "metadata": {},
   "outputs": [
    {
     "data": {
      "application/vnd.jupyter.widget-view+json": {
       "model_id": "bf21ba18e5e94e69ae5e4ddc6ed264d8",
       "version_major": 2,
       "version_minor": 0
      },
      "text/plain": [
       "Dropdown(description='Script:', options=('none', 'simpleRotation', 'checkAngle', 'simpleOrbit', 'demoButtonAct…"
      ]
     },
     "metadata": {},
     "output_type": "display_data"
    },
    {
     "data": {
      "application/vnd.jupyter.widget-view+json": {
       "model_id": "317a3e93f7354e7bb1c78cf87bf44f41",
       "version_major": 2,
       "version_minor": 0
      },
      "text/plain": [
       "VBox(children=(Text(value='', description='parameteri:', disabled=True, layout=Layout(height='40px', width='30…"
      ]
     },
     "metadata": {},
     "output_type": "display_data"
    },
    {
     "data": {
      "application/vnd.jupyter.widget-view+json": {
       "model_id": "e928d3f60536427e8f3ef254f1190fe7",
       "version_major": 2,
       "version_minor": 0
      },
      "text/plain": [
       "Output()"
      ]
     },
     "metadata": {},
     "output_type": "display_data"
    }
   ],
   "source": [
    "jj = 0\n",
    "wlist = []\n",
    "def scriptCreator(scriptNames, maxLength):\n",
    "\n",
    "    drop = widgets.Dropdown(\n",
    "        options=scriptNames,\n",
    "        value='none',\n",
    "        description='Script:',\n",
    "        disabled=False,\n",
    "        )\n",
    "    display(drop)\n",
    "    \n",
    "    for i in range(maxLength):\n",
    "        wlist.append( \n",
    "                    widgets.Text(value=\"\",\n",
    "                             placeholder='Type something',\n",
    "                                description= \"parameter\" + \"i\" + \":\",\n",
    "                                disabled=True,\n",
    "                                layout=Layout(width='30%', height='40px')\n",
    "                                ))\n",
    "\n",
    "    hh = widgets.VBox(wlist)\n",
    "\n",
    "    display(hh)\n",
    "    out1 = widgets.interactive_output(ff1, {'a': drop})  \n",
    "    display(out1)\n",
    "    \n",
    "def ff1(a):\n",
    "   \n",
    "    \n",
    "    display(a)\n",
    "    \n",
    "    ii =scriptNames.index(a)\n",
    "    jj = ii\n",
    "    \n",
    "    \n",
    "    sdata = scriptList[jj]\n",
    "    for i in range(maxLength):\n",
    "        wlist[i].value = \"\"\n",
    "        wlist[i].description = \"\"\n",
    "        wlist[i].disabled = True\n",
    "        \n",
    "    k = list(sdata.keys())\n",
    "    v = list(sdata.values())\n",
    "    print(k)\n",
    "    print(v)\n",
    "    for i in range(len(k)):\n",
    "        kk = k[i]\n",
    "        vv = v[i]        \n",
    "        wlist[i].value = str(vv)\n",
    "        wlist[i].description = str(kk)\n",
    "        wlist[i].disabled = False\n",
    "    display(a)\n",
    "\n",
    "\n",
    "scriptCreator(scriptNames, maxLength)\n"
   ]
  },
  {
   "cell_type": "code",
   "execution_count": 89,
   "id": "8fac54e8-0b29-4532-bbb1-ceebf76fe76b",
   "metadata": {},
   "outputs": [
    {
     "data": {
      "text/plain": [
       "['None',\n",
       " 'simpleRotation',\n",
       " 'checkAngle',\n",
       " 'simpleOrbit',\n",
       " 'demoButtonActions',\n",
       " 'moveObjects']"
      ]
     },
     "execution_count": 89,
     "metadata": {},
     "output_type": "execute_result"
    }
   ],
   "source": [
    "scriptNames"
   ]
  },
  {
   "cell_type": "code",
   "execution_count": 126,
   "id": "f779a790-ff60-426a-ae55-4ef23973756c",
   "metadata": {},
   "outputs": [
    {
     "data": {
      "application/vnd.jupyter.widget-view+json": {
       "model_id": "e70805dd819a4e0a90e4d6a976d3a213",
       "version_major": 2,
       "version_minor": 0
      },
      "text/plain": [
       "HBox(children=(Label(value='position'), BoundedFloatText(value=7.5, description='x:', layout=Layout(height='40…"
      ]
     },
     "metadata": {},
     "output_type": "display_data"
    }
   ],
   "source": [
    "wwlist = []\n",
    "\n",
    "\n",
    "wwlist.append(widgets.Label(value=\"position\"))\n",
    "\n",
    "wwlist.append(\n",
    "    widgets.BoundedFloatText(\n",
    "    value=7.5,\n",
    "    min=0,\n",
    "    max=10.0,\n",
    "    step=0.1,\n",
    "    description='x:',\n",
    "    disabled=False,\n",
    "    layout=Layout(width='10%', height='40px')\n",
    "))\n",
    "wwlist.append(\n",
    "    widgets.BoundedFloatText(\n",
    "    value=7.5,\n",
    "    min=0,\n",
    "    max=10.0,\n",
    "    step=0.1,\n",
    "    description='y:',\n",
    "    disabled=False,\n",
    "    layout=Layout(width='10%', height='40px')\n",
    "))\n",
    "wwlist.append(\n",
    "    widgets.BoundedFloatText(\n",
    "    value=7.5,\n",
    "    min=0,\n",
    "    max=10.0,\n",
    "    step=0.1,\n",
    "    description='z:',\n",
    "    disabled=False,\n",
    "    layout=Layout(width='10%', height='40px')\n",
    "))\n",
    "\n",
    "hh = widgets.HBox(wwlist, layout=Layout(width='100%', height='70px'))\n",
    "display(hh)"
   ]
  },
  {
   "cell_type": "code",
   "execution_count": null,
   "id": "374cca39-b9bc-4398-bb7f-d8f8188cb20e",
   "metadata": {},
   "outputs": [],
   "source": []
  }
 ],
 "metadata": {
  "kernelspec": {
   "display_name": "Python 3",
   "language": "python",
   "name": "python3"
  },
  "language_info": {
   "codemirror_mode": {
    "name": "ipython",
    "version": 3
   },
   "file_extension": ".py",
   "mimetype": "text/x-python",
   "name": "python",
   "nbconvert_exporter": "python",
   "pygments_lexer": "ipython3",
   "version": "3.8.8"
  }
 },
 "nbformat": 4,
 "nbformat_minor": 5
}
