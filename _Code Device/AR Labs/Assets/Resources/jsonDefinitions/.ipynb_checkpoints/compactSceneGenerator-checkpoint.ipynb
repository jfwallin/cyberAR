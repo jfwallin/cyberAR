{
 "cells": [
  {
   "cell_type": "markdown",
   "id": "d6829fce",
   "metadata": {},
   "source": [
    "# AR Scenes made simple\n",
    "\n"
   ]
  },
  {
   "cell_type": "code",
   "execution_count": 7,
   "id": "2c16e497",
   "metadata": {},
   "outputs": [],
   "source": [
    "import json\n",
    "\n",
    "import os\n",
    "import time\n",
    "import numpy as np\n",
    "import random\n",
    "import pandas as pd\n",
    "import ipywidgets as widgets\n",
    "from ipywidgets import interact, interactive, fixed, interact_manual\n",
    "from IPython.display import display, Markdown, clear_output\n"
   ]
  },
  {
   "cell_type": "code",
   "execution_count": 22,
   "id": "c8c79819",
   "metadata": {},
   "outputs": [],
   "source": [
    "#pip install import-ipynb\n",
    "#import import_ipynb\n",
    "%run jsonBaseRoutines.ipynb\n"
   ]
  },
  {
   "cell_type": "code",
   "execution_count": null,
   "id": "47ede062-8268-4d8c-8589-1a0bc1039993",
   "metadata": {},
   "outputs": [],
   "source": []
  },
  {
   "cell_type": "code",
   "execution_count": 25,
   "id": "6cf11c7a",
   "metadata": {},
   "outputs": [
    {
     "ename": "TypeError",
     "evalue": "list indices must be integers or slices, not str",
     "output_type": "error",
     "traceback": [
      "\u001b[1;31m---------------------------------------------------------------------------\u001b[0m",
      "\u001b[1;31mTypeError\u001b[0m                                 Traceback (most recent call last)",
      "\u001b[1;32m<ipython-input-25-79ff14c6e4d3>\u001b[0m in \u001b[0;36m<module>\u001b[1;34m\u001b[0m\n\u001b[0;32m     14\u001b[0m \u001b[1;33m\u001b[0m\u001b[0m\n\u001b[0;32m     15\u001b[0m \u001b[0mtlist\u001b[0m \u001b[1;33m=\u001b[0m \u001b[0mcreateTextBox\u001b[0m\u001b[1;33m(\u001b[0m\u001b[1;34m\"line\"\u001b[0m\u001b[1;33m,\u001b[0m \u001b[1;34m\"[_DYNAMIC]\"\u001b[0m\u001b[1;33m,\u001b[0m \u001b[0mtextData\u001b[0m\u001b[1;33m)\u001b[0m\u001b[1;33m\u001b[0m\u001b[1;33m\u001b[0m\u001b[0m\n\u001b[1;32m---> 16\u001b[1;33m \u001b[0mmlist\u001b[0m \u001b[1;33m=\u001b[0m \u001b[0mcreateMarkerBalls\u001b[0m\u001b[1;33m(\u001b[0m\u001b[1;34m\"marker\"\u001b[0m\u001b[1;33m,\u001b[0m \u001b[1;34m\"[_DYNAMIC]\"\u001b[0m\u001b[1;33m,\u001b[0m \u001b[0mtlist\u001b[0m \u001b[1;33m)\u001b[0m\u001b[1;33m\u001b[0m\u001b[1;33m\u001b[0m\u001b[0m\n\u001b[0m\u001b[0;32m     17\u001b[0m \u001b[1;33m\u001b[0m\u001b[0m\n",
      "\u001b[1;32m<ipython-input-22-b06becb80422>\u001b[0m in \u001b[0;36mcreateMarkerBalls\u001b[1;34m(baseObjectName, parentObject, objectList, color, markerSize, offset, componentsToAdd)\u001b[0m\n\u001b[0;32m     57\u001b[0m     \u001b[1;32mfor\u001b[0m \u001b[0mi\u001b[0m \u001b[1;32min\u001b[0m \u001b[0mrange\u001b[0m\u001b[1;33m(\u001b[0m\u001b[0mlen\u001b[0m\u001b[1;33m(\u001b[0m\u001b[0mobjectList\u001b[0m\u001b[1;33m)\u001b[0m\u001b[1;33m)\u001b[0m\u001b[1;33m:\u001b[0m\u001b[1;33m\u001b[0m\u001b[1;33m\u001b[0m\u001b[0m\n\u001b[0;32m     58\u001b[0m \u001b[1;33m\u001b[0m\u001b[0m\n\u001b[1;32m---> 59\u001b[1;33m         \u001b[0mballPosition\u001b[0m \u001b[1;33m=\u001b[0m \u001b[1;33m{\u001b[0m \u001b[1;34m\"x\"\u001b[0m\u001b[1;33m:\u001b[0m \u001b[0mobjectList\u001b[0m\u001b[1;33m[\u001b[0m\u001b[1;34m\"position\"\u001b[0m\u001b[1;33m]\u001b[0m\u001b[1;33m[\u001b[0m\u001b[1;34m\"x\"\u001b[0m\u001b[1;33m]\u001b[0m \u001b[1;33m+\u001b[0m \u001b[0moffset\u001b[0m\u001b[1;33m[\u001b[0m\u001b[1;34m\"x\"\u001b[0m\u001b[1;33m]\u001b[0m\u001b[1;33m,\u001b[0m\u001b[1;34m\"x\"\u001b[0m\u001b[1;33m:\u001b[0m \u001b[0mobjectList\u001b[0m\u001b[1;33m[\u001b[0m\u001b[1;34m\"position\"\u001b[0m\u001b[1;33m]\u001b[0m\u001b[1;33m[\u001b[0m\u001b[1;34m\"y\"\u001b[0m\u001b[1;33m]\u001b[0m \u001b[1;33m+\u001b[0m \u001b[0moffset\u001b[0m\u001b[1;33m[\u001b[0m\u001b[1;34m\"y\"\u001b[0m\u001b[1;33m]\u001b[0m\u001b[1;33m,\u001b[0m \u001b[1;34m\"z\"\u001b[0m\u001b[1;33m:\u001b[0m \u001b[0mobjectList\u001b[0m\u001b[1;33m[\u001b[0m\u001b[1;34m\"position\"\u001b[0m\u001b[1;33m]\u001b[0m\u001b[1;33m[\u001b[0m\u001b[1;34m\"z\"\u001b[0m\u001b[1;33m]\u001b[0m \u001b[1;33m+\u001b[0m \u001b[0moffset\u001b[0m\u001b[1;33m[\u001b[0m\u001b[1;34m\"z\"\u001b[0m\u001b[1;33m]\u001b[0m\u001b[1;33m}\u001b[0m\u001b[1;33m\u001b[0m\u001b[1;33m\u001b[0m\u001b[0m\n\u001b[0m\u001b[0;32m     60\u001b[0m \u001b[1;33m\u001b[0m\u001b[0m\n\u001b[0;32m     61\u001b[0m         markerBall = {\n",
      "\u001b[1;31mTypeError\u001b[0m: list indices must be integers or slices, not str"
     ]
    }
   ],
   "source": [
    "\n",
    "blist = setupNavigation(\"new section\",\"cool task\")\n",
    "\n",
    "label1 = createFloatingLabel(\"MoonLabel\", \"Moon\", \"The Moon\")\n",
    "label2 = createFloatingLabel(\"MoonSizeLabel\", \"Moon\", \"8000 Miles\", position={\"x\":0.0, \"y\":-0.75, \"z\":0.0})\n",
    "\n",
    "\n",
    "textData = [\"Learned about Sizes and Scales\",\n",
    "            \"Determined how the Moon Rotates\",\n",
    "            \"View from the Earth\",\n",
    "            \"View from the Moon\",\n",
    "            \"View from Above the North Pole\",\n",
    "            \"Reproduce Moon Phases on a Basketball\"\n",
    "           ]\n",
    "\n",
    "tlist = createTextBox(\"line\", \"[_DYNAMIC]\", textData)\n",
    "mlist = createMarkerBalls(\"marker\", \"[_DYNAMIC]\", tlist )\n",
    "\n"
   ]
  },
  {
   "cell_type": "markdown",
   "id": "e34831b2-2a92-4cae-9455-61ec9b4879e1",
   "metadata": {},
   "source": [
    "# Scripts"
   ]
  },
  {
   "cell_type": "code",
   "execution_count": null,
   "id": "a6da46f2-3dce-40ce-ae7a-1118b1e38b27",
   "metadata": {},
   "outputs": [],
   "source": [
    "scriptData1 = {\n",
    "    \"name\": \"simpleRotation\",\n",
    "    \"timeRate\": timeRate,\n",
    "    \"rotationTime\": basketballRotationTime\n",
    "}\n",
    "script1 = json.dumps(scriptData1) \n",
    "\n",
    "scriptData2 = {\n",
    "    \"name\": \"checkAngle\",\n",
    "    \"audioClipSuccess\": None,\n",
    "    \"azmTarget\": 0,\n",
    "    \"azmTolerance\": 30,\n",
    "    \"altTarget\": 0,\n",
    "    \"altTolerance\": 30,\n",
    "    \"callBackObjects\": [\"demoModule\"]\n",
    "\n",
    "}\n",
    "script2 = json.dumps(scriptData2) \n",
    "\n",
    "\n",
    "scriptData3 = {\n",
    "    \"name\": \"simpleOrbit\",\n",
    "    \"moonPosition\": moonPosition,\n",
    "    \"orbitalPeriod\": moonOrbitalPeriod,\n",
    "    \"timeRate\": timeRate,\n",
    "    \"orbitalScale\": orbitalScale,\n",
    "    \"synchronousRotation\":True\n",
    "    }\n",
    "script3 = json.dumps(scriptData2)\n",
    "    "
   ]
  },
  {
   "cell_type": "code",
   "execution_count": null,
   "id": "1400c505-bf3d-4a07-8135-5155d7ac4c55",
   "metadata": {},
   "outputs": [],
   "source": []
  },
  {
   "cell_type": "code",
   "execution_count": null,
   "id": "0cab9dd2-0709-47f0-8e22-2c0f85c6d12f",
   "metadata": {},
   "outputs": [],
   "source": []
  },
  {
   "cell_type": "code",
   "execution_count": null,
   "id": "0ecb7af3-0cae-4e01-873b-3d73b7b28bb4",
   "metadata": {},
   "outputs": [],
   "source": []
  },
  {
   "cell_type": "code",
   "execution_count": null,
   "id": "a8ec9f97-e613-4677-9e19-83bc255b63f4",
   "metadata": {},
   "outputs": [],
   "source": []
  },
  {
   "cell_type": "code",
   "execution_count": null,
   "id": "30b2b6dc-b8d0-4412-bd1c-7bdd2ad5c0bb",
   "metadata": {},
   "outputs": [],
   "source": []
  }
 ],
 "metadata": {
  "kernelspec": {
   "display_name": "Python 3",
   "language": "python",
   "name": "python3"
  },
  "language_info": {
   "codemirror_mode": {
    "name": "ipython",
    "version": 3
   },
   "file_extension": ".py",
   "mimetype": "text/x-python",
   "name": "python",
   "nbconvert_exporter": "python",
   "pygments_lexer": "ipython3",
   "version": "3.8.8"
  }
 },
 "nbformat": 4,
 "nbformat_minor": 5
}
