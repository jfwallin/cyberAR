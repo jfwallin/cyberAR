{
 "cells": [
  {
   "cell_type": "code",
   "execution_count": 3,
   "id": "f91b4deb",
   "metadata": {},
   "outputs": [],
   "source": [
    "import numpy as np\n",
    "import matplotlib.pyplot as plt\n",
    "import json\n",
    "import os\n",
    "import ephem\n"
   ]
  },
  {
   "cell_type": "code",
   "execution_count": 2,
   "id": "e4dda822",
   "metadata": {},
   "outputs": [
    {
     "name": "stdout",
     "output_type": "stream",
     "text": [
      "Collecting ephem\n",
      "  Downloading ephem-4.0.0.2-cp38-cp38-win_amd64.whl (808 kB)\n",
      "Installing collected packages: ephem\n",
      "Successfully installed ephem-4.0.0.2\n",
      "Note: you may need to restart the kernel to use updated packages.\n"
     ]
    }
   ],
   "source": [
    "#pip install ephem"
   ]
  },
  {
   "cell_type": "code",
   "execution_count": null,
   "id": "720148ac",
   "metadata": {},
   "outputs": [],
   "source": []
  },
  {
   "cell_type": "code",
   "execution_count": 45,
   "id": "7b14a155",
   "metadata": {},
   "outputs": [
    {
     "name": "stdout",
     "output_type": "stream",
     "text": [
      "(2021, 3, 13, 10, 21, 6.935733100399375)\n",
      "2021/3/13 10:21:07\n",
      "['2021/3/13 10', '21', '07']\n",
      "2021/3/13 10:00:01\n"
     ]
    }
   ],
   "source": [
    "sun = ephem.Sun()\n",
    "moon = ephem.Moon()\n",
    "date = \"2021/03/10 00:00:00\"\n",
    "d1 = ephem.Date(date)\n",
    "\n",
    "d2 = ephem.next_new_moon(d1)\n",
    "\n",
    "print(d2.tuple())\n",
    "s = str(d2)\n",
    "print(s)\n",
    "\n",
    "ss = s.split(\":\")\n",
    "print(ss)\n",
    "d = ephem.Date(ss[0]+\":00:01\")\n",
    "\n",
    "print(d)\n"
   ]
  },
  {
   "cell_type": "code",
   "execution_count": 44,
   "id": "70bb317b",
   "metadata": {},
   "outputs": [
    {
     "name": "stdout",
     "output_type": "stream",
     "text": [
      "2020-03-24 10:00:01    184.1955306689067 3.9770880994437254\n",
      "2020-03-24 11:00:00.999999    184.2368533133853 4.471540434499758\n",
      "2020-03-24 12:00:00.999999    184.27816229748552 4.965976547856512\n",
      "2020-03-24 13:00:00.999999    184.3194849419641 5.460397720174456\n",
      "2020-03-24 14:00:00.999999    184.36079392606433 5.954806085887706\n",
      "2020-03-24 15:00:00.999998    184.4021029101646 6.4492024987699095\n",
      "2020-03-24 16:00:00.999998    184.44342555464314 6.943588666368357\n",
      "2020-03-24 17:00:00.999998    184.4847345387434 7.437965869343519\n",
      "2020-03-24 18:00:00.999998    184.52604352284362 7.932336669016335\n",
      "2020-03-24 19:00:00.999998    184.56735250694385 8.426701492273626\n"
     ]
    }
   ],
   "source": [
    "\n",
    "for dd in range(10):\n",
    "    #print(d.tuple())\n",
    "    sun.compute(d)\n",
    "    moon.compute(d)\n",
    "    #print(dd, sun.hlong, moon.hlong, moon.phase)\n",
    "    d = ephem.Date(d + ephem.hour)\n",
    "    \n",
    "\n",
    "    shd = sun.hlong*180./np.pi\n",
    "    mhd = moon.hlong*180./np.pi\n",
    "    ddd = d.datetime()\n",
    "    print(ddd, \"  \" , shd, mhd)\n",
    "\n",
    "    #print(shd -mhd)\n",
    "#print(sun.ra, sun.dec)\n",
    "#print(sun.hlong, sun.hlat)\n",
    "#print(sun.earth_distance)\n",
    "\n",
    "\n",
    "\n",
    "#print(moon.hlong, moon.hlat)\n",
    "#print(moon.ra, moon.dec)\n",
    "#print(moon.earth_distance)\n",
    "#print(moon.phase)\n"
   ]
  },
  {
   "cell_type": "code",
   "execution_count": 10,
   "id": "c06e8438",
   "metadata": {},
   "outputs": [
    {
     "name": "stdout",
     "output_type": "stream",
     "text": [
      "Help on Moon object:\n",
      "\n",
      "class Moon(Planet)\n",
      " |  Create a Body Instance representing the Moon.\n",
      " |  \n",
      " |  Method resolution order:\n",
      " |      Moon\n",
      " |      Planet\n",
      " |      Body\n",
      " |      builtins.object\n",
      " |  \n",
      " |  Methods defined here:\n",
      " |  \n",
      " |  __init__(self, /, *args, **kwargs)\n",
      " |      Initialize self.  See help(type(self)) for accurate signature.\n",
      " |  \n",
      " |  ----------------------------------------------------------------------\n",
      " |  Data descriptors defined here:\n",
      " |  \n",
      " |  colong\n",
      " |      lunar selenographic colongitude as a float giving radians, or a string giving degrees:minutes:seconds\n",
      " |  \n",
      " |  libration_lat\n",
      " |      lunar libration in latitude as a float giving radians, or a string giving degrees:minutes:seconds\n",
      " |  \n",
      " |  libration_long\n",
      " |      lunar libration in longitude as a float giving radians, or a string giving degrees:minutes:seconds\n",
      " |  \n",
      " |  moon_phase\n",
      " |      fraction of lunar surface illuminated when viewed from earth\n",
      " |  \n",
      " |  subsolar_lat\n",
      " |      lunar latitude of subsolar point as a float giving radians, or a string giving degrees:minutes:seconds\n",
      " |  \n",
      " |  ----------------------------------------------------------------------\n",
      " |  Data descriptors inherited from Planet:\n",
      " |  \n",
      " |  earth_distance\n",
      " |      distance from earth in AU\n",
      " |  \n",
      " |  hlat\n",
      " |      heliocentric latitude (but Sun().hlat means the hlat of Earth) as a float giving radians, or a string giving degrees:minutes:seconds\n",
      " |  \n",
      " |  hlon\n",
      " |      heliocentric longitude (but Sun().hlon means the hlon of Earth) as a float giving radians, or a string giving degrees:minutes:seconds\n",
      " |  \n",
      " |  hlong\n",
      " |      heliocentric longitude as a float giving radians, or a string giving degrees:minutes:seconds\n",
      " |  \n",
      " |  phase\n",
      " |      phase as percent of the surface illuminated\n",
      " |  \n",
      " |  sun_distance\n",
      " |      distance from sun in AU\n",
      " |  \n",
      " |  ----------------------------------------------------------------------\n",
      " |  Methods inherited from Body:\n",
      " |  \n",
      " |  __copy__(...)\n",
      " |      Return a new copy of this body\n",
      " |  \n",
      " |  __repr__(self, /)\n",
      " |      Return repr(self).\n",
      " |  \n",
      " |  compute(...)\n",
      " |      compute the location of the body for the given date or Observer, or for the current time if no date is supplied\n",
      " |  \n",
      " |  copy(...)\n",
      " |      Return a new copy of this body\n",
      " |  \n",
      " |  parallactic_angle(...)\n",
      " |      return the parallactic angle to the body; an Observer must have been provided to the most recent compute() call, because a parallactic angle is always measured with respect to a specfic observer\n",
      " |  \n",
      " |  writedb(...)\n",
      " |      return a string representation of the body appropriate for inclusion in an ephem database file\n",
      " |  \n",
      " |  ----------------------------------------------------------------------\n",
      " |  Static methods inherited from Body:\n",
      " |  \n",
      " |  __new__(*args, **kwargs) from builtins.type\n",
      " |      Create and return a new object.  See help(type) for accurate signature.\n",
      " |  \n",
      " |  ----------------------------------------------------------------------\n",
      " |  Data descriptors inherited from Body:\n",
      " |  \n",
      " |  a_dec\n",
      " |      astrometric geocentric declination as a float giving radians, or a string giving degrees:minutes:seconds\n",
      " |  \n",
      " |  a_epoch\n",
      " |      date giving the equinox of the body's astrometric right ascension and declination\n",
      " |  \n",
      " |  a_ra\n",
      " |      astrometric geocentric right ascension as a float giving radians, or a string giving hours:minutes:seconds\n",
      " |  \n",
      " |  alt\n",
      " |      altitude as a float giving radians, or a string giving degrees:minutes:seconds\n",
      " |  \n",
      " |  az\n",
      " |      azimuth as a float giving radians, or a string giving degrees:minutes:seconds\n",
      " |  \n",
      " |  circumpolar\n",
      " |      whether object remains above the horizon this day\n",
      " |  \n",
      " |  dec\n",
      " |      declination as a float giving radians, or a string giving degrees:minutes:seconds\n",
      " |  \n",
      " |  elong\n",
      " |      elongation as a float giving radians, or a string giving degrees:minutes:seconds\n",
      " |  \n",
      " |  g_dec\n",
      " |      apparent geocentric declination as a float giving radians, or a string giving degrees:minutes:seconds\n",
      " |  \n",
      " |  g_ra\n",
      " |      apparent geocentric right ascension as a float giving radians, or a string giving hours:minutes:seconds\n",
      " |  \n",
      " |  mag\n",
      " |      magnitude\n",
      " |  \n",
      " |  name\n",
      " |      object name (read-only string)\n",
      " |  \n",
      " |  neverup\n",
      " |      whether object never rises above the horizon this day\n",
      " |  \n",
      " |  ra\n",
      " |      right ascension as a float giving radians, or a string giving hours:minutes:seconds\n",
      " |  \n",
      " |  radius\n",
      " |      visual radius as a float giving radians, or a string giving degrees:minutes:seconds\n",
      " |  \n",
      " |  rise_az\n",
      " |      azimuth at which the body rises as a float giving radians, or a string giving degrees:minutes:seconds\n",
      " |  \n",
      " |  rise_time\n",
      " |      rise time\n",
      " |  \n",
      " |  set_az\n",
      " |      azimuth at which the body sets as a float giving radians, or a string giving degrees:minutes:seconds\n",
      " |  \n",
      " |  set_time\n",
      " |      set time\n",
      " |  \n",
      " |  size\n",
      " |      visual size in arcseconds\n",
      " |  \n",
      " |  transit_alt\n",
      " |      transit altitude as a float giving radians, or a string giving degrees:minutes:seconds\n",
      " |  \n",
      " |  transit_time\n",
      " |      transit time\n",
      "\n"
     ]
    }
   ],
   "source": [
    "help(moon)"
   ]
  },
  {
   "cell_type": "code",
   "execution_count": 46,
   "id": "43fb36df",
   "metadata": {},
   "outputs": [
    {
     "data": {
      "text/plain": [
       "2160"
      ]
     },
     "execution_count": 46,
     "metadata": {},
     "output_type": "execute_result"
    }
   ],
   "source": [
    "24*90\n"
   ]
  },
  {
   "cell_type": "code",
   "execution_count": null,
   "id": "7a5956df",
   "metadata": {},
   "outputs": [],
   "source": []
  }
 ],
 "metadata": {
  "kernelspec": {
   "display_name": "Python 3",
   "language": "python",
   "name": "python3"
  },
  "language_info": {
   "codemirror_mode": {
    "name": "ipython",
    "version": 3
   },
   "file_extension": ".py",
   "mimetype": "text/x-python",
   "name": "python",
   "nbconvert_exporter": "python",
   "pygments_lexer": "ipython3",
   "version": "3.8.8"
  }
 },
 "nbformat": 4,
 "nbformat_minor": 5
}
