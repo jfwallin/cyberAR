{
 "cells": [
  {
   "cell_type": "code",
   "execution_count": 1,
   "id": "083b7d22-821c-4d50-99c4-9da82c703d69",
   "metadata": {
    "id": "083b7d22-821c-4d50-99c4-9da82c703d69"
   },
   "outputs": [],
   "source": [
    "import json\n",
    "import ipywidgets as widgets\n",
    "import os"
   ]
  },
  {
   "cell_type": "code",
   "execution_count": 4,
   "id": "fe1874a8",
   "metadata": {
    "colab": {
     "base_uri": "https://localhost:8080/",
     "height": 350
    },
    "id": "fe1874a8",
    "outputId": "ab3143ef-e217-4f73-dc7d-c7e413a5d991",
    "scrolled": true
   },
   "outputs": [],
   "source": [
    "# set up the helper routines to load the jsons\n",
    "# written by J Wallin\n",
    "\n",
    "def jsonFromFile(fname):\n",
    "    f = open(fname,\"r\")\n",
    "    s = f.read()\n",
    "    f.close()\n",
    "    return json.loads(s)\n",
    "\n",
    "def jsonToFile(fname):\n",
    "    print(fname)\n",
    "    \n",
    "def listFiles(assetPath, printFiles):\n",
    "    finalList = []\n",
    "    fullList = os.listdir(assetPath)\n",
    "    for f in fullList:\n",
    "        if f.find(\"json\") == len(f)-4:\n",
    "            print(f)\n",
    "            finalList.append(f)\n",
    "    return finalList\n",
    "\n",
    "def loadFileIntoDictionary(path, flist):\n",
    "    jdata = {}\n",
    "    for f in flist:\n",
    "        jdata[f] = jsonFromFile(path + f)\n",
    "    return jdata\n",
    "\n"
   ]
  },
  {
   "cell_type": "code",
   "execution_count": 5,
   "id": "6b315593",
   "metadata": {},
   "outputs": [
    {
     "name": "stdout",
     "output_type": "stream",
     "text": [
      "genericActivity.json\n",
      "genericObject.json\n",
      "genericPointerReceiver.json\n",
      "genericRigidBody.json\n",
      "genericScriptSimpleRotation.json\n"
     ]
    }
   ],
   "source": [
    "# define the path to access the generic templates and the output files\n",
    "assetPath = \"C:/Users/jfwal/OneDrive/Documents/GitHub/cyberAR/\\_Code Device/AR Labs/Assets/Resources/jsonDefinitions/genericDefinitions/\"     \n",
    "outputPath = \"C:/Users/jfwal/OneDrive/Documents/GitHub/cyberAR/\\_Code Device/AR Labs/Assets/Resources/jsonDefinitions/\"  \n",
    "\n",
    "# get the list of all the files in the generic directory and load them into a dictionary\n",
    "flist = listFiles(assetPath,  True)\n",
    "jdata = loadFileIntoDictionary(assetPath, flist)\n",
    "\n",
    "\n",
    "# this prints out the assets so you can review them\n",
    "showFiles = False\n",
    "if (showFiles):\n",
    "    for f in flist:\n",
    "        print(\"===== file name\" + f)\n",
    "        print(\"---------\\n\",f, \"\\n\\n\\n\", json.dumps(jdata[f], indent=4))"
   ]
  },
  {
   "cell_type": "code",
   "execution_count": 6,
   "id": "14d58280",
   "metadata": {
    "id": "14d58280",
    "outputId": "2c3530fd-e1c7-42cc-d275-05a5dfa3b66e"
   },
   "outputs": [],
   "source": [
    "\n",
    "# make a copy of the generic dictionary\n",
    "baseClass = jdata['genericObject.json'].copy()\n",
    "\n",
    "# Modify the base class with any necessary changes (base scripts, etc.)\n",
    "baseClass['type'] = 'Prefabs/moveableSphere'\n",
    "\n",
    "##################\n",
    "# make a copy of the generic component\n",
    "rigidBodyTmp = jdata['genericRigidBody.json']['RigidBody'].copy()\n",
    "\n",
    "# modify it as needed\n",
    "rigidBodyTmp['isKinematic'] = True\n",
    "\n",
    "# embed it into a string\n",
    "baseClass['RigidBody'] = json.dumps(rigidBodyTmp)  \n",
    "\n",
    "###################\n",
    "pointerReceiverTmp = jdata['genericPointerReceiver.json']['PointerReceiver'].copy()  #ok\n",
    "# put any modes here\n",
    "baseClass['PointerReceiver'] = json.dumps(pointerReceiverTmp)\n",
    "\n",
    "\n",
    "# Define the specific changes (position, etc.)\n",
    "nObjects = 5\n",
    "positionList = []\n",
    "scaleList = []\n",
    "\n",
    "planetNames = [\"Jupiter\", \"Uranus\", \"Earth\", \"Mars\", \"Moon\"]\n",
    "planetTextures = [\"Textures/_k_jupiter\", \"Textures/_k_uranus\", \"Textures/2k_earth_daymap\", \"Textures/_k_mars\", \"Textures/_k_moon\"]\n",
    "planetRotationSpeeds = [ 0.33, 0.5, 1.0, 1.05, 28.]\n",
    "planetScales = [0.5, 0.2, 0.1, 0.03, 0.02]\n",
    "\n",
    "# loop over the object list and assign object specific data to each instance - \n",
    "# this could include locations, scales, names, or other data\n",
    "for i in range(nObjects):\n",
    "    x = -1.0 + i * 0.5\n",
    "    y = 1.5\n",
    "    z = 1.7\n",
    "    pos = {}\n",
    "    pos['x'] = x\n",
    "    pos['y'] = y\n",
    "    pos['z'] = z\n",
    "    positionList.append( pos.copy())\n",
    "    \n",
    "    pscale = {}\n",
    "    pscale['x'] = planetScales[i]\n",
    "    pscale['y'] = planetScales[i]\n",
    "    pscale['z'] = planetScales[i]\n",
    "    scaleList.append( pscale.copy())\n",
    "    \n",
    "    scriptList = []\n",
    "    simpleRotation = jdata['genericScriptSimpleRotation.json']\n",
    "    simpleRotation['rotationTime'] = planetRotationSpeeds[i]\n",
    "    scriptList.append( json.dumps(simpleRotation))\n"
   ]
  },
  {
   "cell_type": "code",
   "execution_count": 7,
   "id": "43f7e705",
   "metadata": {
    "id": "43f7e705",
    "outputId": "131281fd-9cfe-42fb-9110-250b777cef4c"
   },
   "outputs": [],
   "source": [
    "# Loop over the array of objects and add in the modifications\n",
    "\n",
    "objectList = []\n",
    "maxObject = 5\n",
    "for i in range(maxObject):\n",
    "\n",
    "    # Modify each object, and save it as a string\n",
    "    newObject = baseClass.copy()\n",
    "    \n",
    "    newObject['position'] = positionList[i].copy() \n",
    "    newObject['name'] = planetNames[i]  \n",
    "    newObject['scale'] = scaleList[i].copy() \n",
    "    #newObject['materials'] = planetNames[i]    \n",
    "    newObject['texture'] = planetTextures[i]\n",
    "    newObject['componentsToAdd'] = scriptList \n",
    "\n",
    "    # append the modified classes into an array    \n",
    "    objectList.append( newObject) # works"
   ]
  },
  {
   "cell_type": "code",
   "execution_count": 8,
   "id": "142467b0",
   "metadata": {
    "id": "142467b0",
    "outputId": "b35c5e57-987d-46f0-a89a-4908d4abd55e"
   },
   "outputs": [],
   "source": [
    "\n",
    "# make a copy of the generic scene for the activity file\n",
    "myScene = jdata['genericActivity.json'].copy()\n",
    "\n",
    "# modify the base scene\n",
    "myScene['moduleName'] = \"planetDemo\"\n",
    "\n",
    "# add the objects and activity module specific definitions\n",
    "myScene['objects'] = objectList\n",
    "myScene['timeToEnd'] = 15.0;\n"
   ]
  },
  {
   "cell_type": "code",
   "execution_count": 10,
   "id": "dfc61577",
   "metadata": {
    "id": "dfc61577",
    "outputId": "12bf9255-b002-4da3-a2c7-5335b6e54f5b",
    "scrolled": true
   },
   "outputs": [],
   "source": [
    "\n",
    "# form the final scene as a string\n",
    "finalJson = json.dumps(myScene, indent=4)\n",
    "\n",
    "# optionally print it\n",
    "#print(finalJson)\n",
    "\n",
    "# save it to an output file\n",
    "outputFileName = \"demo7.json\"\n",
    "with open(outputPath + outputFileName, 'w', encoding='utf-8') as f:\n",
    "    json.dump(myScene, f, ensure_ascii=False, indent=4)"
   ]
  },
  {
   "cell_type": "code",
   "execution_count": null,
   "id": "ae3a75af",
   "metadata": {},
   "outputs": [],
   "source": [
    "# this is a code stub for merging two activity files together\n",
    "\n",
    "# read in the files\n",
    "fn1 = outputPath + \"demo7.json\"\n",
    "s1 = jsonFromFile(fn1)\n",
    "\n",
    "fn2 = assetPath + \"demo9.json\"\n",
    "s2 = jsonFromFile(fn2)\n",
    "\n",
    "\n",
    "# open the new file\n",
    "f = open(assetPath + 'demo10.json', 'w', encoding='utf-8')\n",
    "\n",
    "# Dump the file - but do NOT use any indents.  This will flatten\n",
    "# the file into a single line.  We then write it out as a line with a newline character.\n",
    "a1 = json.dumps(s1, ensure_ascii=False)\n",
    "f.write(a1 + \"\\n\")\n",
    "\n",
    "a2 = json.dumps(s2, ensure_ascii=False)\n",
    "f.write(a2 + \"\\n\")\n",
    "\n",
    "# this is repeating the first activity\n",
    "f.write(a1 + \"\\n\")\n",
    "\n",
    "# close it\n",
    "f.close()\n"
   ]
  },
  {
   "cell_type": "code",
   "execution_count": null,
   "id": "a9f482cd",
   "metadata": {},
   "outputs": [],
   "source": []
  }
 ],
 "metadata": {
  "colab": {
   "collapsed_sections": [],
   "name": "json-explorer-jw.ipynb",
   "provenance": []
  },
  "kernelspec": {
   "display_name": "Python 3",
   "language": "python",
   "name": "python3"
  },
  "language_info": {
   "codemirror_mode": {
    "name": "ipython",
    "version": 3
   },
   "file_extension": ".py",
   "mimetype": "text/x-python",
   "name": "python",
   "nbconvert_exporter": "python",
   "pygments_lexer": "ipython3",
   "version": "3.8.8"
  }
 },
 "nbformat": 4,
 "nbformat_minor": 5
}
