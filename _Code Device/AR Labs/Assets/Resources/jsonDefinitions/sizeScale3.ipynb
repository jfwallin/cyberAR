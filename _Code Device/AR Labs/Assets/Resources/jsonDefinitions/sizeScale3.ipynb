{
 "cells": [
  {
   "cell_type": "markdown",
   "id": "d6829fce",
   "metadata": {},
   "source": [
    "# AR Scenes made simple\n",
    "\n"
   ]
  },
  {
   "cell_type": "code",
   "execution_count": 1,
   "id": "2c16e497",
   "metadata": {},
   "outputs": [],
   "source": [
    "import json\n",
    "\n",
    "import os\n",
    "import time\n",
    "import numpy as np\n",
    "import random\n",
    "import pandas as pd\n",
    "import ipywidgets as widgets\n",
    "from ipywidgets import interact, interactive, fixed, interact_manual\n",
    "from IPython.display import display, Markdown, clear_output\n",
    "import copy\n"
   ]
  },
  {
   "cell_type": "code",
   "execution_count": 2,
   "id": "c8c79819",
   "metadata": {},
   "outputs": [],
   "source": [
    "#pip install import-ipynb\n",
    "#import import_ipynb\n",
    "%run jsonBaseRoutines.ipynb\n",
    "%run "
   ]
  },
  {
   "cell_type": "code",
   "execution_count": 7,
   "id": "d573e2fa-b9db-46aa-8b30-622a789937d5",
   "metadata": {},
   "outputs": [
    {
     "data": {
      "text/plain": [
       "['.ipynb_checkpoints',\n",
       " 'asu-names-new.tsv',\n",
       " 'asu-names.tsv',\n",
       " 'asu.tsv',\n",
       " 'asunew.tsv',\n",
       " 'brightStars.ipynb',\n",
       " 'New Text Document.txt',\n",
       " 'sss1.ipynb']"
      ]
     },
     "execution_count": 7,
     "metadata": {},
     "output_type": "execute_result"
    }
   ],
   "source": [
    "os.listdir('SizeScales')"
   ]
  },
  {
   "cell_type": "code",
   "execution_count": 14,
   "id": "47ede062-8268-4d8c-8589-1a0bc1039993",
   "metadata": {},
   "outputs": [],
   "source": [
    "%run SizeScales/brightStars.ipynb"
   ]
  },
  {
   "cell_type": "code",
   "execution_count": null,
   "id": "4e265263-01ce-4d29-9387-d904bc66baf1",
   "metadata": {},
   "outputs": [],
   "source": [
    "# add the buttons for navigation\n",
    "\n",
    "blist = setupNavigation(\"new section\",\"cool task\")\n"
   ]
  },
  {
   "cell_type": "code",
   "execution_count": 3,
   "id": "6cf11c7a",
   "metadata": {},
   "outputs": [],
   "source": [
    "#scriptData1 = {\n",
    "#    \"name\": \"simpleRotation\",\n",
    "#    \"timeRate\": 1,\n",
    "#    \"rotationTime\": 2\n",
    "#}\n",
    "#script1 = json.dumps(scriptData1) \n",
    "\n",
    "#label1 = createFloatingLabel(\"MoonLabel\", \"Moon\", \"The Moon\")\n",
    "#label2 = createFloatingLabel(\"MoonSizeLabel\", \"Moon\", \"8000 Miles\", position={\"x\":0.0, \"y\":-0.75, \"z\":0.0})\n",
    "\n",
    "\n",
    "#textData = [\"Learned about Sizes and Scales\",\n",
    "#            \"Determined how the Moon Rotates\",\n",
    "#            \"View from the Earth\",\n",
    "#            \"View from the Moon\",\n",
    "#            \"View from Above the North Pole\",\n",
    "#            \"Reproduce Moon Phases on a Basketball\"\n",
    "#           ]\n",
    "\n",
    "#tlist = createTextBox(\"line\", \"[_DYNAMIC]\", textData)\n",
    "#mlist = createMarkerBalls(\"marker\", \"[_DYNAMIC]\", tlist, componentsToAdd=[script1] )\n",
    "\n"
   ]
  },
  {
   "cell_type": "markdown",
   "id": "e34831b2-2a92-4cae-9455-61ec9b4879e1",
   "metadata": {},
   "source": [
    "# Scripts"
   ]
  },
  {
   "cell_type": "code",
   "execution_count": 4,
   "id": "a6da46f2-3dce-40ce-ae7a-1118b1e38b27",
   "metadata": {},
   "outputs": [
    {
     "data": {
      "text/plain": [
       "'{\"name\": \"moveObjects\", \"startPos\": {\"x\": 0.0, \"y\": 0.0, \"z\": 0.0}, \"midPos\": {\"x\": 0.0, \"y\": 0.0, \"z\": 0.0}, \"finalPos\": {\"x\": 0.0, \"y\": 0.0, \"z\": 0.0}, \"startSize\": {\"x\": 0.0, \"y\": 0.0, \"z\": 0.0}, \"finalSize\": {\"x\": 0.0, \"y\": 0.0, \"z\": 0.0}, \"startAngle\": {\"x\": 0.0, \"y\": 0.0, \"z\": 0.0}, \"finalAngle\": {\"x\": 0.0, \"y\": 0.0, \"z\": 0.0}, \"timeRange\": {\"x\": -100.0, \"y\": -90.0, \"z\": 0.0}, \"positionCoefficients\": [[0.0, 0.0, 0.0], [0.0, 0.0, 0.0], [0.0, 0.0, 0.0]], \"sizeCoefficients\": [[0.0, 0.0, 0.0], [0.0, 0.0, 0.0], [0.0, 0.0, 0.0]], \"angleCoefficients\": [[0.0, 0.0, 0.0], [0.0, 0.0, 0.0], [0.0, 0.0, 0.0]]}'"
      ]
     },
     "execution_count": 4,
     "metadata": {},
     "output_type": "execute_result"
    }
   ],
   "source": [
    "script5"
   ]
  },
  {
   "cell_type": "markdown",
   "id": "d98838bd-102e-42b4-b5f6-93cfc2997928",
   "metadata": {},
   "source": [
    "# Create Clips"
   ]
  },
  {
   "cell_type": "code",
   "execution_count": 5,
   "id": "0cab9dd2-0709-47f0-8e22-2c0f85c6d12f",
   "metadata": {},
   "outputs": [],
   "source": [
    "nclips = 8\n",
    "\n",
    "\n",
    "def createClips(nclips):\n",
    "    clipList = []\n",
    "    for i in range(nclips):\n",
    "        clip = {\"clipName\":\"clip\"+str(i),\n",
    "                \"audioClipString\": None,\n",
    "               \"timeToEnd\": -1,\n",
    "               \"autoAdvance\": False,\n",
    "                \"changes\": []}\n",
    "        clipList.append(clip)\n",
    "    return clipList\n",
    "\n",
    "clipList = createClips(4)\n",
    "lastname = \"\"\n",
    "\n",
    "olist = blist  # using the buttons as a demo"
   ]
  },
  {
   "cell_type": "code",
   "execution_count": 6,
   "id": "39ed369f-f4af-43a9-bacf-baa4eea9b224",
   "metadata": {},
   "outputs": [],
   "source": [
    "ochanges = [ {'type': 'Prefabs/textPrefab',\n",
    "  'tmp': '{\"textField\": \"Next\", \"color\": [255, 255, 0, 255], \"fontSize\": 1.0, \"wrapText\": false}',\n",
    "  'position': {'x': 0.0, 'y': 0.0, 'z': 0.1},\n",
    "  'eulerAngles': {'x': 90, 'y': 180.0, 'z': 0.0},\n",
    "  'scale': {'x': 0.6, 'y': 0.6, 'z': 0.6},\n",
    "  'enabled': True,\n",
    "  'parentName': 'brbNextClip',\n",
    "  'name': 'brbNextClipLabel'},\n",
    " {'type': 'Prefabs/demoButtonPrefab',\n",
    "  'parentName': 'taskLabel',\n",
    "  'position': {'x': -0.5, 'y': 0, 'z': 0},\n",
    "  'eulerAngles': {'x': 90, 'y': 180.0, 'z': 0.0},\n",
    "  'scale': {'x': 1, 'y': 1, 'z': 1},\n",
    "  'name': 'brbPreviousClip',\n",
    "  'color': [255, 0, 0, 255],\n",
    "  'componentsToAdd': ['{\"name\": \"demoButtonActions\", \"callBackObjects\": [\"demoModule\"]}']},\n",
    "   {'type': 'Prefabs/textPrefab',\n",
    "  'tmp': '{\"textField\": \"Previous\", \"color\": [255, 255, 0, 255], \"fontSize\": 1.0, \"wrapText\": false}',\n",
    "  'position': {'x': 0.0, 'y': 0.0, 'z': 0.1},\n",
    "  'eulerAngles': {'x': 90, 'y': 180.0, 'z': 0.0},\n",
    "  'scale': {'x': 0.6, 'y': 0.6, 'z': 0.6},\n",
    "  'enabled': True,\n",
    "  'parentName': 'brbPreviousClip',\n",
    "  'name': 'brbPreviousClipLabel'}  ]\n",
    "\n",
    "clipNames = []\n",
    "for i in range(len(clipList)):\n",
    "    clipList[i]['changes'] = ochanges.copy()\n",
    "    clipNames.append(clipList[i]['clipName'])"
   ]
  },
  {
   "cell_type": "code",
   "execution_count": null,
   "id": "97ae67d8-448e-4472-b2c6-c6ff4bba9ba9",
   "metadata": {},
   "outputs": [],
   "source": []
  }
 ],
 "metadata": {
  "kernelspec": {
   "display_name": "Python 3",
   "language": "python",
   "name": "python3"
  },
  "language_info": {
   "codemirror_mode": {
    "name": "ipython",
    "version": 3
   },
   "file_extension": ".py",
   "mimetype": "text/x-python",
   "name": "python",
   "nbconvert_exporter": "python",
   "pygments_lexer": "ipython3",
   "version": "3.8.8"
  }
 },
 "nbformat": 4,
 "nbformat_minor": 5
}
